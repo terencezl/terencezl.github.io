{
 "metadata": {
  "name": "",
  "signature": "sha256:f44fbc41642f708b98476f6e3a08268fdc7aabc30f2e76734d626a1163dd3bb7"
 },
 "nbformat": 3,
 "nbformat_minor": 0,
 "worksheets": [
  {
   "cells": [
    {
     "cell_type": "code",
     "collapsed": false,
     "input": [
      "Pb=[-88112.3195,\n",
      "-88112.7909,\n",
      "-88113.2393,\n",
      "-88113.6560,\n",
      "-88114.0470,\n",
      "-88114.4298,\n",
      "-88114.7706,]\n",
      "\n",
      "I = [-32968.2494,\n",
      "-32968.5714,\n",
      "-32968.8723,\n",
      "-32969.1582,\n",
      "-32969.4122,\n",
      "-32969.6387,\n",
      "-32969.8547,]"
     ],
     "language": "python",
     "metadata": {},
     "outputs": [],
     "prompt_number": 9
    },
    {
     "cell_type": "code",
     "collapsed": false,
     "input": [
      "df= pd.DataFrame(np.array([Pb, I]).T, columns=['Pb','I'])"
     ],
     "language": "python",
     "metadata": {},
     "outputs": [],
     "prompt_number": 2
    },
    {
     "cell_type": "code",
     "collapsed": false,
     "input": [
      "df.plot(subplots=True,sharex=True)"
     ],
     "language": "python",
     "metadata": {},
     "outputs": [
      {
       "metadata": {},
       "output_type": "pyout",
       "prompt_number": 10,
       "text": [
        "array([<matplotlib.axes._subplots.AxesSubplot object at 0x10e262a10>,\n",
        "       <matplotlib.axes._subplots.AxesSubplot object at 0x10e2f3210>], dtype=object)"
       ]
      }
     ],
     "prompt_number": 10
    },
    {
     "cell_type": "code",
     "collapsed": false,
     "input": [
      "Pb[-1] - Pb[0]"
     ],
     "language": "python",
     "metadata": {},
     "outputs": [
      {
       "metadata": {},
       "output_type": "pyout",
       "prompt_number": 7,
       "text": [
        "-2.451100000005681"
       ]
      }
     ],
     "prompt_number": 7
    },
    {
     "cell_type": "code",
     "collapsed": false,
     "input": [
      "I[-1] - I[0]"
     ],
     "language": "python",
     "metadata": {},
     "outputs": [
      {
       "metadata": {},
       "output_type": "pyout",
       "prompt_number": 8,
       "text": [
        "-1.6053000000028987"
       ]
      }
     ],
     "prompt_number": 8
    },
    {
     "cell_type": "code",
     "collapsed": false,
     "input": [
      "plt.text(1,-2.5, \"difference -2.45\")"
     ],
     "language": "python",
     "metadata": {},
     "outputs": [
      {
       "metadata": {},
       "output_type": "pyout",
       "prompt_number": 12,
       "text": [
        "<matplotlib.text.Text at 0x10ec79090>"
       ]
      }
     ],
     "prompt_number": 12
    },
    {
     "cell_type": "code",
     "collapsed": false,
     "input": [
      "plt.draw()"
     ],
     "language": "python",
     "metadata": {},
     "outputs": [],
     "prompt_number": 15
    },
    {
     "cell_type": "code",
     "collapsed": false,
     "input": [
      "plt.tight_layout()"
     ],
     "language": "python",
     "metadata": {},
     "outputs": [],
     "prompt_number": 14
    },
    {
     "cell_type": "markdown",
     "metadata": {},
     "source": [
      "```python\n",
      "print \"12312\"\n",
      "```\n",
      "\n",
      "```bash\n",
      "echo asdf\n",
      "```"
     ]
    },
    {
     "cell_type": "code",
     "collapsed": false,
     "input": [
      "plt.plot([231,342])"
     ],
     "language": "python",
     "metadata": {},
     "outputs": [
      {
       "metadata": {},
       "output_type": "pyout",
       "prompt_number": 3,
       "text": [
        "[<matplotlib.lines.Line2D at 0x10dc23250>]"
       ]
      }
     ],
     "prompt_number": 3
    },
    {
     "cell_type": "code",
     "collapsed": false,
     "input": [
      "plt.rcParams"
     ],
     "language": "python",
     "metadata": {},
     "outputs": [
      {
       "metadata": {},
       "output_type": "pyout",
       "prompt_number": 1,
       "text": [
        "RcParams({u'agg.path.chunksize': 0,\n",
        "          u'animation.avconv_args': u'',\n",
        "          u'animation.avconv_path': u'avconv',\n",
        "          u'animation.bitrate': -1,\n",
        "          u'animation.codec': u'mpeg4',\n",
        "          u'animation.convert_args': u'',\n",
        "          u'animation.convert_path': u'convert',\n",
        "          u'animation.ffmpeg_args': u'',\n",
        "          u'animation.ffmpeg_path': u'ffmpeg',\n",
        "          u'animation.frame_format': u'png',\n",
        "          u'animation.mencoder_args': u'',\n",
        "          u'animation.mencoder_path': u'mencoder',\n",
        "          u'animation.writer': u'ffmpeg',\n",
        "          u'axes.axisbelow': True,\n",
        "          u'axes.color_cycle': [u'#E24A33',\n",
        "                                u'#348ABD',\n",
        "                                u'#988ED5',\n",
        "                                u'#777777',\n",
        "                                u'#FBC15E',\n",
        "                                u'#8EBA42',\n",
        "                                u'#FFB5B8'],\n",
        "          u'axes.edgecolor': u'white',\n",
        "          u'axes.facecolor': u'#E5E5E5',\n",
        "          u'axes.formatter.limits': [-7, 7],\n",
        "          u'axes.formatter.use_locale': False,\n",
        "          u'axes.formatter.use_mathtext': False,\n",
        "          u'axes.formatter.useoffset': True,\n",
        "          u'axes.grid': True,\n",
        "          u'axes.grid.which': u'major',\n",
        "          u'axes.hold': True,\n",
        "          u'axes.labelcolor': u'#555555',\n",
        "          u'axes.labelsize': u'large',\n",
        "          u'axes.labelweight': u'normal',\n",
        "          u'axes.linewidth': 1.0,\n",
        "          u'axes.titlesize': u'x-large',\n",
        "          u'axes.titleweight': u'normal',\n",
        "          u'axes.unicode_minus': True,\n",
        "          u'axes.xmargin': 0,\n",
        "          u'axes.ymargin': 0,\n",
        "          u'axes3d.grid': True,\n",
        "          u'backend': u'TkAgg',\n",
        "          u'backend.qt4': u'PyQt4',\n",
        "          u'backend.qt5': u'PyQt5',\n",
        "          u'backend_fallback': True,\n",
        "          u'contour.negative_linestyle': u'dashed',\n",
        "          u'datapath': u'/Applications/anaconda/lib/python2.7/site-packages/matplotlib/mpl-data',\n",
        "          u'docstring.hardcopy': False,\n",
        "          u'examples.directory': u'',\n",
        "          u'figure.autolayout': False,\n",
        "          u'figure.dpi': 120.0,\n",
        "          u'figure.edgecolor': u'0.50',\n",
        "          u'figure.facecolor': u'white',\n",
        "          u'figure.figsize': [5.5, 4.0],\n",
        "          u'figure.frameon': True,\n",
        "          u'figure.max_open_warning': 20,\n",
        "          u'figure.subplot.bottom': 0.1,\n",
        "          u'figure.subplot.hspace': 0.2,\n",
        "          u'figure.subplot.left': 0.125,\n",
        "          u'figure.subplot.right': 0.9,\n",
        "          u'figure.subplot.top': 0.9,\n",
        "          u'figure.subplot.wspace': 0.2,\n",
        "          u'font.cursive': [u'Apple Chancery',\n",
        "                            u'Textile',\n",
        "                            u'Zapf Chancery',\n",
        "                            u'Sand',\n",
        "                            u'cursive'],\n",
        "          u'font.family': u'sans-serif',\n",
        "          u'font.fantasy': [u'Comic Sans MS',\n",
        "                            u'Chicago',\n",
        "                            u'Charcoal',\n",
        "                            u'ImpactWestern',\n",
        "                            u'fantasy'],\n",
        "          u'font.monospace': [u'Bitstream Vera Sans Mono',\n",
        "                              u'DejaVu Sans Mono',\n",
        "                              u'Andale Mono',\n",
        "                              u'Nimbus Mono L',\n",
        "                              u'Courier New',\n",
        "                              u'Courier',\n",
        "                              u'Fixed',\n",
        "                              u'Terminal',\n",
        "                              u'monospace'],\n",
        "          u'font.sans-serif': [u'Bitstream Vera Sans',\n",
        "                               u'DejaVu Sans',\n",
        "                               u'Lucida Grande',\n",
        "                               u'Verdana',\n",
        "                               u'Geneva',\n",
        "                               u'Lucid',\n",
        "                               u'Arial',\n",
        "                               u'Helvetica',\n",
        "                               u'Avant Garde',\n",
        "                               u'sans-serif'],\n",
        "          u'font.serif': [u'Bitstream Vera Serif',\n",
        "                          u'DejaVu Serif',\n",
        "                          u'New Century Schoolbook',\n",
        "                          u'Century Schoolbook L',\n",
        "                          u'Utopia',\n",
        "                          u'ITC Bookman',\n",
        "                          u'Bookman',\n",
        "                          u'Nimbus Roman No9 L',\n",
        "                          u'Times New Roman',\n",
        "                          u'Times',\n",
        "                          u'Palatino',\n",
        "                          u'Charter',\n",
        "                          u'serif'],\n",
        "          u'font.size': 10.0,\n",
        "          u'font.stretch': u'normal',\n",
        "          u'font.style': u'normal',\n",
        "          u'font.variant': u'normal',\n",
        "          u'font.weight': u'normal',\n",
        "          u'grid.alpha': 1.0,\n",
        "          u'grid.color': u'white',\n",
        "          u'grid.linestyle': u'-',\n",
        "          u'grid.linewidth': 0.5,\n",
        "          u'image.aspect': u'equal',\n",
        "          u'image.cmap': u'jet',\n",
        "          u'image.interpolation': u'bilinear',\n",
        "          u'image.lut': 256,\n",
        "          u'image.origin': u'upper',\n",
        "          u'image.resample': False,\n",
        "          u'interactive': True,\n",
        "          u'keymap.all_axes': u'a',\n",
        "          u'keymap.back': [u'left', u'c', u'backspace'],\n",
        "          u'keymap.forward': [u'right', u'v'],\n",
        "          u'keymap.fullscreen': (u'f', u'ctrl+f'),\n",
        "          u'keymap.grid': u'g',\n",
        "          u'keymap.home': [u'h', u'r', u'home'],\n",
        "          u'keymap.pan': u'p',\n",
        "          u'keymap.quit': (u'ctrl+w', u'cmd+w'),\n",
        "          u'keymap.save': (u's', u'ctrl+s'),\n",
        "          u'keymap.xscale': [u'k', u'L'],\n",
        "          u'keymap.yscale': u'l',\n",
        "          u'keymap.zoom': u'o',\n",
        "          u'legend.borderaxespad': 0.5,\n",
        "          u'legend.borderpad': 0.4,\n",
        "          u'legend.columnspacing': 2.0,\n",
        "          u'legend.fancybox': False,\n",
        "          u'legend.fontsize': u'large',\n",
        "          u'legend.frameon': True,\n",
        "          u'legend.handleheight': 0.7,\n",
        "          u'legend.handlelength': 2.0,\n",
        "          u'legend.handletextpad': 0.8,\n",
        "          u'legend.isaxes': True,\n",
        "          u'legend.labelspacing': 0.5,\n",
        "          u'legend.loc': u'upper right',\n",
        "          u'legend.markerscale': 1.0,\n",
        "          u'legend.numpoints': 2,\n",
        "          u'legend.scatterpoints': 3,\n",
        "          u'legend.shadow': False,\n",
        "          u'lines.antialiased': True,\n",
        "          u'lines.color': u'b',\n",
        "          u'lines.dash_capstyle': u'butt',\n",
        "          u'lines.dash_joinstyle': u'round',\n",
        "          u'lines.linestyle': u'-',\n",
        "          u'lines.linewidth': 1.0,\n",
        "          u'lines.marker': u'None',\n",
        "          u'lines.markeredgewidth': 0.5,\n",
        "          u'lines.markersize': 6,\n",
        "          u'lines.solid_capstyle': u'projecting',\n",
        "          u'lines.solid_joinstyle': u'round',\n",
        "          u'mathtext.bf': u'serif:bold',\n",
        "          u'mathtext.cal': u'cursive',\n",
        "          u'mathtext.default': u'it',\n",
        "          u'mathtext.fallback_to_cm': True,\n",
        "          u'mathtext.fontset': u'cm',\n",
        "          u'mathtext.it': u'serif:italic',\n",
        "          u'mathtext.rm': u'serif',\n",
        "          u'mathtext.sf': u'sans\\\\-serif',\n",
        "          u'mathtext.tt': u'monospace',\n",
        "          u'patch.antialiased': True,\n",
        "          u'patch.edgecolor': u'#EEEEEE',\n",
        "          u'patch.facecolor': u'#348ABD',\n",
        "          u'patch.linewidth': 0.5,\n",
        "          u'path.effects': [],\n",
        "          u'path.simplify': True,\n",
        "          u'path.simplify_threshold': 0.1111111111111111,\n",
        "          u'path.sketch': None,\n",
        "          u'path.snap': True,\n",
        "          u'pdf.compression': 6,\n",
        "          u'pdf.fonttype': 3,\n",
        "          u'pdf.inheritcolor': False,\n",
        "          u'pdf.use14corefonts': False,\n",
        "          u'pgf.debug': False,\n",
        "          u'pgf.preamble': [u''],\n",
        "          u'pgf.rcfonts': True,\n",
        "          u'pgf.texsystem': u'xelatex',\n",
        "          u'plugins.directory': u'.matplotlib_plugins',\n",
        "          u'polaraxes.grid': True,\n",
        "          u'ps.distiller.res': 6000,\n",
        "          u'ps.fonttype': 3,\n",
        "          u'ps.papersize': u'letter',\n",
        "          u'ps.useafm': False,\n",
        "          u'ps.usedistiller': False,\n",
        "          u'savefig.bbox': None,\n",
        "          u'savefig.directory': u'~',\n",
        "          u'savefig.dpi': 200.0,\n",
        "          u'savefig.edgecolor': u'w',\n",
        "          u'savefig.extension': u'png',\n",
        "          u'savefig.facecolor': u'w',\n",
        "          u'savefig.format': u'png',\n",
        "          u'savefig.frameon': True,\n",
        "          u'savefig.jpeg_quality': 95,\n",
        "          u'savefig.orientation': u'portrait',\n",
        "          u'savefig.pad_inches': 0.1,\n",
        "          u'savefig.transparent': False,\n",
        "          u'svg.embed_char_paths': True,\n",
        "          u'svg.fonttype': u'path',\n",
        "          u'svg.image_inline': True,\n",
        "          u'svg.image_noscale': False,\n",
        "          u'text.antialiased': True,\n",
        "          u'text.color': u'k',\n",
        "          u'text.dvipnghack': None,\n",
        "          u'text.hinting': True,\n",
        "          u'text.hinting_factor': 8,\n",
        "          u'text.latex.preamble': [u''],\n",
        "          u'text.latex.preview': False,\n",
        "          u'text.latex.unicode': False,\n",
        "          u'text.usetex': False,\n",
        "          u'timezone': u'UTC',\n",
        "          u'tk.pythoninspect': False,\n",
        "          u'tk.window_focus': False,\n",
        "          u'toolbar': u'toolbar2',\n",
        "          u'verbose.fileo': u'sys.stdout',\n",
        "          u'verbose.level': u'silent',\n",
        "          u'webagg.open_in_browser': True,\n",
        "          u'webagg.port': 8988,\n",
        "          u'webagg.port_retries': 50,\n",
        "          u'xtick.color': u'#555555',\n",
        "          u'xtick.direction': u'out',\n",
        "          u'xtick.labelsize': u'medium',\n",
        "          u'xtick.major.pad': 4,\n",
        "          u'xtick.major.size': 4,\n",
        "          u'xtick.major.width': 0.5,\n",
        "          u'xtick.minor.pad': 4,\n",
        "          u'xtick.minor.size': 2,\n",
        "          u'xtick.minor.width': 0.5,\n",
        "          u'ytick.color': u'#555555',\n",
        "          u'ytick.direction': u'out',\n",
        "          u'ytick.labelsize': u'medium',\n",
        "          u'ytick.major.pad': 4,\n",
        "          u'ytick.major.size': 4,\n",
        "          u'ytick.major.width': 0.5,\n",
        "          u'ytick.minor.pad': 4,\n",
        "          u'ytick.minor.size': 2,\n",
        "          u'ytick.minor.width': 0.5})"
       ]
      }
     ],
     "prompt_number": 1
    },
    {
     "cell_type": "code",
     "collapsed": false,
     "input": [
      "plt.rcParams['figure.dpi'] = 50"
     ],
     "language": "python",
     "metadata": {},
     "outputs": [],
     "prompt_number": 2
    },
    {
     "cell_type": "code",
     "collapsed": false,
     "input": [
      "mpl.get_backend()"
     ],
     "language": "python",
     "metadata": {},
     "outputs": [
      {
       "metadata": {},
       "output_type": "pyout",
       "prompt_number": 1,
       "text": [
        "u'MacOSX'"
       ]
      }
     ],
     "prompt_number": 1
    },
    {
     "cell_type": "code",
     "collapsed": false,
     "input": [],
     "language": "python",
     "metadata": {},
     "outputs": []
    }
   ],
   "metadata": {}
  }
 ]
}